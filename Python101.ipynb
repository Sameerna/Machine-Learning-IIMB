{
 "cells": [
  {
   "cell_type": "code",
   "execution_count": 1,
   "id": "b8e65998",
   "metadata": {},
   "outputs": [
    {
     "name": "stdout",
     "output_type": "stream",
     "text": [
      "Hi there!\n"
     ]
    }
   ],
   "source": [
    "print('Hi there!')"
   ]
  },
  {
   "cell_type": "code",
   "execution_count": 5,
   "id": "781e85f5",
   "metadata": {},
   "outputs": [
    {
     "name": "stdout",
     "output_type": "stream",
     "text": [
      "var is a single digit\n"
     ]
    }
   ],
   "source": [
    "var = 8\n",
    "if var>1 and var <9:\n",
    "    #print('var is greater than 1')\n",
    "#elif var <=9:\n",
    "    print('var is a single digit')\n",
    "else:\n",
    "    print('var is greater than 10' )"
   ]
  },
  {
   "cell_type": "code",
   "execution_count": 6,
   "id": "0ebf6fe5",
   "metadata": {},
   "outputs": [
    {
     "name": "stdout",
     "output_type": "stream",
     "text": [
      "False\n"
     ]
    }
   ],
   "source": [
    "x = 5\n",
    "isGreater = True if x > 10 else False\n",
    "print(isGreater)"
   ]
  },
  {
   "cell_type": "code",
   "execution_count": 7,
   "id": "9d1d9362",
   "metadata": {},
   "outputs": [],
   "source": [
    "numbers = range(1, 6)"
   ]
  },
  {
   "cell_type": "code",
   "execution_count": 8,
   "id": "b34f9cbb",
   "metadata": {},
   "outputs": [
    {
     "name": "stdout",
     "output_type": "stream",
     "text": [
      "range(1, 6)\n"
     ]
    }
   ],
   "source": [
    "print (numbers)"
   ]
  },
  {
   "cell_type": "code",
   "execution_count": 9,
   "id": "7f724f84",
   "metadata": {},
   "outputs": [
    {
     "data": {
      "text/plain": [
       "range(1, 6)"
      ]
     },
     "execution_count": 9,
     "metadata": {},
     "output_type": "execute_result"
    }
   ],
   "source": [
    "numbers\n"
   ]
  },
  {
   "cell_type": "code",
   "execution_count": 10,
   "id": "7bda39bb",
   "metadata": {},
   "outputs": [
    {
     "name": "stdout",
     "output_type": "stream",
     "text": [
      "1\n",
      "2\n",
      "3\n",
      "4\n",
      "5\n"
     ]
    }
   ],
   "source": [
    "for i in numbers:\n",
    "    print(i)"
   ]
  },
  {
   "cell_type": "code",
   "execution_count": 15,
   "id": "0d39840e",
   "metadata": {},
   "outputs": [
    {
     "name": "stdout",
     "output_type": "stream",
     "text": [
      "99\n",
      "101\n",
      "103\n",
      "105\n",
      "107\n",
      "109\n",
      "done\n"
     ]
    }
   ],
   "source": [
    "# \n",
    "x = 99\n",
    "while x < 110:\n",
    "    print (x)\n",
    "    x = x +2\n",
    "print('done')"
   ]
  },
  {
   "cell_type": "code",
   "execution_count": 23,
   "id": "c1b84e93",
   "metadata": {},
   "outputs": [
    {
     "name": "stdout",
     "output_type": "stream",
     "text": [
      "10\n"
     ]
    }
   ],
   "source": [
    "def addEle(a,b =6):\n",
    "    return a+b\n",
    "res = addEle(5,5)\n",
    "print(res)"
   ]
  },
  {
   "cell_type": "code",
   "execution_count": 20,
   "id": "1b7839d2",
   "metadata": {},
   "outputs": [
    {
     "name": "stdout",
     "output_type": "stream",
     "text": [
      "Hi python\n"
     ]
    }
   ],
   "source": [
    "res = addEle('Hi',' python')\n",
    "print(res)"
   ]
  },
  {
   "cell_type": "code",
   "execution_count": 26,
   "id": "25397180",
   "metadata": {},
   "outputs": [],
   "source": [
    "batsmen = ['Rohit','Dhawan','Kohli','Rahane','Rayudu','Dhoni']"
   ]
  },
  {
   "cell_type": "code",
   "execution_count": 30,
   "id": "1ace269a",
   "metadata": {},
   "outputs": [
    {
     "data": {
      "text/plain": [
       "['Kohli', 'Rahane', 'Rayudu', 'Dhoni']"
      ]
     },
     "execution_count": 30,
     "metadata": {},
     "output_type": "execute_result"
    }
   ],
   "source": [
    "batsmen[2:]"
   ]
  },
  {
   "cell_type": "code",
   "execution_count": 31,
   "id": "87dfa832",
   "metadata": {},
   "outputs": [],
   "source": [
    "bowlers = ['Bumrah','Shami','Bhuvi','Kuldeep','Chahal']\n"
   ]
  },
  {
   "cell_type": "code",
   "execution_count": 32,
   "id": "a6554f4c",
   "metadata": {},
   "outputs": [],
   "source": [
    "all_players = batsmen + bowlers"
   ]
  },
  {
   "cell_type": "code",
   "execution_count": 33,
   "id": "7fe54011",
   "metadata": {},
   "outputs": [
    {
     "name": "stdout",
     "output_type": "stream",
     "text": [
      "['Rohit', 'Dhawan', 'Kohli', 'Rahane', 'Rayudu', 'Dhoni', 'Bumrah', 'Shami', 'Bhuvi', 'Kuldeep', 'Chahal']\n"
     ]
    }
   ],
   "source": [
    "print(all_players)"
   ]
  },
  {
   "cell_type": "code",
   "execution_count": 34,
   "id": "0f74158c",
   "metadata": {},
   "outputs": [
    {
     "data": {
      "text/plain": [
       "True"
      ]
     },
     "execution_count": 34,
     "metadata": {},
     "output_type": "execute_result"
    }
   ],
   "source": [
    "'Kohli' in all_players"
   ]
  },
  {
   "cell_type": "code",
   "execution_count": 35,
   "id": "59ed8072",
   "metadata": {},
   "outputs": [],
   "source": [
    "all_players.reverse()"
   ]
  },
  {
   "cell_type": "code",
   "execution_count": 36,
   "id": "b5650b15",
   "metadata": {},
   "outputs": [
    {
     "data": {
      "text/plain": [
       "['Chahal',\n",
       " 'Kuldeep',\n",
       " 'Bhuvi',\n",
       " 'Shami',\n",
       " 'Bumrah',\n",
       " 'Dhoni',\n",
       " 'Rayudu',\n",
       " 'Rahane',\n",
       " 'Kohli',\n",
       " 'Dhawan',\n",
       " 'Rohit']"
      ]
     },
     "execution_count": 36,
     "metadata": {},
     "output_type": "execute_result"
    }
   ],
   "source": [
    "all_players"
   ]
  },
  {
   "cell_type": "code",
   "execution_count": 37,
   "id": "9916a779",
   "metadata": {},
   "outputs": [],
   "source": [
    "odiDebut = ('Kohli', 2008)"
   ]
  },
  {
   "cell_type": "code",
   "execution_count": 38,
   "id": "ab1c0835",
   "metadata": {},
   "outputs": [
    {
     "data": {
      "text/plain": [
       "'Kohli'"
      ]
     },
     "execution_count": 38,
     "metadata": {},
     "output_type": "execute_result"
    }
   ],
   "source": [
    "odiDebut[0]"
   ]
  },
  {
   "cell_type": "code",
   "execution_count": 39,
   "id": "ed12b661",
   "metadata": {},
   "outputs": [
    {
     "data": {
      "text/plain": [
       "2008"
      ]
     },
     "execution_count": 39,
     "metadata": {},
     "output_type": "execute_result"
    }
   ],
   "source": [
    "odiDebut[1]"
   ]
  },
  {
   "cell_type": "code",
   "execution_count": 40,
   "id": "f27810ac",
   "metadata": {},
   "outputs": [],
   "source": [
    "players = tuple(all_players)"
   ]
  },
  {
   "cell_type": "code",
   "execution_count": 41,
   "id": "76ccdef4",
   "metadata": {},
   "outputs": [],
   "source": [
    "numset= {5,1,3,2,6,5,4}"
   ]
  },
  {
   "cell_type": "code",
   "execution_count": 45,
   "id": "bbed1d69",
   "metadata": {},
   "outputs": [],
   "source": [
    "wc2011 = {'Dhoni','Sehwag','Tendulkar','Gambhir','Kohli','Raina','Yavraj','Yusuf'}\n",
    "wc2015 = {'Dhoni','Dhawan','Rohit','Rahane','Kohli','Raina','Rayudu','Jadeja'}"
   ]
  },
  {
   "cell_type": "code",
   "execution_count": 43,
   "id": "9bc77332",
   "metadata": {},
   "outputs": [
    {
     "data": {
      "text/plain": [
       "{'Dhawan',\n",
       " 'Dhoni',\n",
       " 'Gambhir',\n",
       " 'Jadeja',\n",
       " 'Kohli',\n",
       " 'Rahane',\n",
       " 'Raina',\n",
       " 'Rayudu',\n",
       " 'Rohit',\n",
       " 'Sehwag',\n",
       " 'Tendulkar',\n",
       " 'Yavraj',\n",
       " 'Yusuf',\n",
       " 'raina'}"
      ]
     },
     "execution_count": 43,
     "metadata": {},
     "output_type": "execute_result"
    }
   ],
   "source": [
    "wc2011.union(wc2015)"
   ]
  },
  {
   "cell_type": "code",
   "execution_count": 48,
   "id": "96cab082",
   "metadata": {},
   "outputs": [
    {
     "data": {
      "text/plain": [
       "{'Dhawan', 'Jadeja', 'Rahane', 'Rayudu', 'Rohit'}"
      ]
     },
     "execution_count": 48,
     "metadata": {},
     "output_type": "execute_result"
    }
   ],
   "source": [
    "wc2015.difference(wc2011)"
   ]
  },
  {
   "cell_type": "code",
   "execution_count": 53,
   "id": "b1e72cf2",
   "metadata": {},
   "outputs": [],
   "source": [
    "#Dictionary"
   ]
  },
  {
   "cell_type": "code",
   "execution_count": 54,
   "id": "79abe628",
   "metadata": {},
   "outputs": [],
   "source": [
    "wcWinners = {\n",
    "    1975:'WestIndies',\n",
    "    1979:'WestIndies',\n",
    "    1983:'India',\n",
    "    1987:'Australia',\n",
    "    1991:'Pakistan',\n",
    "    1996:'Sri lanka',\n",
    "    1999:'Australia',\n",
    "    2003:'Australia',\n",
    "    2007:'Australia',\n",
    "    2011:'India'}"
   ]
  },
  {
   "cell_type": "code",
   "execution_count": 55,
   "id": "e61c4157",
   "metadata": {},
   "outputs": [
    {
     "data": {
      "text/plain": [
       "'India'"
      ]
     },
     "execution_count": 55,
     "metadata": {},
     "output_type": "execute_result"
    }
   ],
   "source": [
    "wcWinners[1983]"
   ]
  },
  {
   "cell_type": "code",
   "execution_count": 56,
   "id": "fe89309e",
   "metadata": {},
   "outputs": [
    {
     "data": {
      "text/plain": [
       "{'Australia', 'India', 'Pakistan', 'Sri lanka', 'WestIndies'}"
      ]
     },
     "execution_count": 56,
     "metadata": {},
     "output_type": "execute_result"
    }
   ],
   "source": [
    "set(wcWinners.values())"
   ]
  },
  {
   "cell_type": "code",
   "execution_count": 59,
   "id": "3402fdf8",
   "metadata": {},
   "outputs": [],
   "source": [
    "string1 = 'Hi, there '\n",
    "token = string1.split(',')"
   ]
  },
  {
   "cell_type": "code",
   "execution_count": 60,
   "id": "cdbc8e2f",
   "metadata": {},
   "outputs": [
    {
     "data": {
      "text/plain": [
       "['Hi', ' there']"
      ]
     },
     "execution_count": 60,
     "metadata": {},
     "output_type": "execute_result"
    }
   ],
   "source": [
    "token"
   ]
  },
  {
   "cell_type": "code",
   "execution_count": 61,
   "id": "302c9d53",
   "metadata": {},
   "outputs": [],
   "source": [
    "inList = [1,2,3,4,5,6,7,8,9]"
   ]
  },
  {
   "cell_type": "code",
   "execution_count": 62,
   "id": "3aa371d3",
   "metadata": {},
   "outputs": [],
   "source": [
    "def square_me(x):\n",
    "    return x * x"
   ]
  },
  {
   "cell_type": "code",
   "execution_count": 64,
   "id": "5f7194b0",
   "metadata": {},
   "outputs": [],
   "source": [
    "squareList = map(square_me, inList)"
   ]
  },
  {
   "cell_type": "code",
   "execution_count": 65,
   "id": "0cdee09d",
   "metadata": {},
   "outputs": [
    {
     "data": {
      "text/plain": [
       "<map at 0x11459423070>"
      ]
     },
     "execution_count": 65,
     "metadata": {},
     "output_type": "execute_result"
    }
   ],
   "source": [
    "squareList"
   ]
  },
  {
   "cell_type": "code",
   "execution_count": 67,
   "id": "58c886f6",
   "metadata": {},
   "outputs": [
    {
     "data": {
      "text/plain": [
       "[1, 4, 9, 16, 25, 36, 49, 64, 81]"
      ]
     },
     "execution_count": 67,
     "metadata": {},
     "output_type": "execute_result"
    }
   ],
   "source": [
    "list(squareList)"
   ]
  },
  {
   "cell_type": "code",
   "execution_count": 70,
   "id": "733fad2a",
   "metadata": {},
   "outputs": [
    {
     "data": {
      "text/plain": [
       "[1, 4, 9, 16, 25, 36, 49, 64, 81]"
      ]
     },
     "execution_count": 70,
     "metadata": {},
     "output_type": "execute_result"
    }
   ],
   "source": [
    "SquareList = map(lambda x: pow(x,2), inList)\n",
    "list(SquareList)"
   ]
  },
  {
   "cell_type": "code",
   "execution_count": 71,
   "id": "14b3a958",
   "metadata": {},
   "outputs": [],
   "source": [
    "evenInts = filter(lambda x : x%2==0,inList)"
   ]
  },
  {
   "cell_type": "code",
   "execution_count": 73,
   "id": "3c2975c0",
   "metadata": {},
   "outputs": [
    {
     "data": {
      "text/plain": [
       "[2, 4, 6, 8]"
      ]
     },
     "execution_count": 73,
     "metadata": {},
     "output_type": "execute_result"
    }
   ],
   "source": [
    "list(evenInts)"
   ]
  },
  {
   "cell_type": "code",
   "execution_count": 78,
   "id": "7becd6de",
   "metadata": {},
   "outputs": [
    {
     "data": {
      "text/plain": [
       "[108, 23, 58, 47]"
      ]
     },
     "execution_count": 78,
     "metadata": {},
     "output_type": "execute_result"
    }
   ],
   "source": [
    "from random import sample\n",
    "sample(range(0,110),4)"
   ]
  },
  {
   "cell_type": "code",
   "execution_count": 79,
   "id": "c1b2ae32",
   "metadata": {},
   "outputs": [],
   "source": [
    "import random\n",
    "\n",
    "randomList = random.sample(range(0,100),20)"
   ]
  },
  {
   "cell_type": "code",
   "execution_count": 87,
   "id": "5116e5db",
   "metadata": {},
   "outputs": [],
   "source": [
    "from statistics import mean,median\n",
    "\n",
    "def getMeanAndMedian(listNum):\n",
    "    return mean(listNum), median(listNum)"
   ]
  },
  {
   "cell_type": "code",
   "execution_count": 88,
   "id": "28213ca2",
   "metadata": {},
   "outputs": [],
   "source": [
    "mean,median = getMeanAndMedian(randomList)"
   ]
  },
  {
   "cell_type": "code",
   "execution_count": 89,
   "id": "ea5f7b36",
   "metadata": {},
   "outputs": [
    {
     "name": "stdout",
     "output_type": "stream",
     "text": [
      "Mean:  47.7 Median:  40.0\n"
     ]
    }
   ],
   "source": [
    "print('Mean: ',mean, 'Median: ',median)"
   ]
  },
  {
   "cell_type": "code",
   "execution_count": null,
   "id": "e3b869e3",
   "metadata": {},
   "outputs": [],
   "source": []
  }
 ],
 "metadata": {
  "kernelspec": {
   "display_name": "Python 3 (ipykernel)",
   "language": "python",
   "name": "python3"
  },
  "language_info": {
   "codemirror_mode": {
    "name": "ipython",
    "version": 3
   },
   "file_extension": ".py",
   "mimetype": "text/x-python",
   "name": "python",
   "nbconvert_exporter": "python",
   "pygments_lexer": "ipython3",
   "version": "3.10.4"
  }
 },
 "nbformat": 4,
 "nbformat_minor": 5
}
